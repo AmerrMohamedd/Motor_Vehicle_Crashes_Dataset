{
 "cells": [
  {
   "cell_type": "code",
   "execution_count": 1,
   "metadata": {},
   "outputs": [],
   "source": [
    "import pandas as pd\n",
    "import numpy as np"
   ]
  },
  {
   "cell_type": "code",
   "execution_count": 2,
   "metadata": {},
   "outputs": [
    {
     "name": "stderr",
     "output_type": "stream",
     "text": [
      "C:\\Users\\Amer\\AppData\\Local\\Temp\\ipykernel_13020\\1929252996.py:1: DtypeWarning: Columns (3) have mixed types. Specify dtype option on import or set low_memory=False.\n",
      "  df=pd.read_csv('D:/accident_severity_analytics/data/raw/Motor_Vehicle_Crashes.csv')\n"
     ]
    },
    {
     "data": {
      "text/html": [
       "<div>\n",
       "<style scoped>\n",
       "    .dataframe tbody tr th:only-of-type {\n",
       "        vertical-align: middle;\n",
       "    }\n",
       "\n",
       "    .dataframe tbody tr th {\n",
       "        vertical-align: top;\n",
       "    }\n",
       "\n",
       "    .dataframe thead th {\n",
       "        text-align: right;\n",
       "    }\n",
       "</style>\n",
       "<table border=\"1\" class=\"dataframe\">\n",
       "  <thead>\n",
       "    <tr style=\"text-align: right;\">\n",
       "      <th></th>\n",
       "      <th>CRASH DATE</th>\n",
       "      <th>CRASH TIME</th>\n",
       "      <th>BOROUGH</th>\n",
       "      <th>ZIP CODE</th>\n",
       "      <th>LATITUDE</th>\n",
       "      <th>LONGITUDE</th>\n",
       "      <th>LOCATION</th>\n",
       "      <th>ON STREET NAME</th>\n",
       "      <th>CROSS STREET NAME</th>\n",
       "      <th>OFF STREET NAME</th>\n",
       "      <th>...</th>\n",
       "      <th>CONTRIBUTING FACTOR VEHICLE 2</th>\n",
       "      <th>CONTRIBUTING FACTOR VEHICLE 3</th>\n",
       "      <th>CONTRIBUTING FACTOR VEHICLE 4</th>\n",
       "      <th>CONTRIBUTING FACTOR VEHICLE 5</th>\n",
       "      <th>COLLISION_ID</th>\n",
       "      <th>VEHICLE TYPE CODE 1</th>\n",
       "      <th>VEHICLE TYPE CODE 2</th>\n",
       "      <th>VEHICLE TYPE CODE 3</th>\n",
       "      <th>VEHICLE TYPE CODE 4</th>\n",
       "      <th>VEHICLE TYPE CODE 5</th>\n",
       "    </tr>\n",
       "  </thead>\n",
       "  <tbody>\n",
       "    <tr>\n",
       "      <th>0</th>\n",
       "      <td>09/11/2021</td>\n",
       "      <td>2:39</td>\n",
       "      <td>NaN</td>\n",
       "      <td>NaN</td>\n",
       "      <td>NaN</td>\n",
       "      <td>NaN</td>\n",
       "      <td>NaN</td>\n",
       "      <td>WHITESTONE EXPRESSWAY</td>\n",
       "      <td>20 AVENUE</td>\n",
       "      <td>NaN</td>\n",
       "      <td>...</td>\n",
       "      <td>Unspecified</td>\n",
       "      <td>NaN</td>\n",
       "      <td>NaN</td>\n",
       "      <td>NaN</td>\n",
       "      <td>4455765</td>\n",
       "      <td>Sedan</td>\n",
       "      <td>Sedan</td>\n",
       "      <td>NaN</td>\n",
       "      <td>NaN</td>\n",
       "      <td>NaN</td>\n",
       "    </tr>\n",
       "    <tr>\n",
       "      <th>1</th>\n",
       "      <td>03/26/2022</td>\n",
       "      <td>11:45</td>\n",
       "      <td>NaN</td>\n",
       "      <td>NaN</td>\n",
       "      <td>NaN</td>\n",
       "      <td>NaN</td>\n",
       "      <td>NaN</td>\n",
       "      <td>QUEENSBORO BRIDGE UPPER</td>\n",
       "      <td>NaN</td>\n",
       "      <td>NaN</td>\n",
       "      <td>...</td>\n",
       "      <td>NaN</td>\n",
       "      <td>NaN</td>\n",
       "      <td>NaN</td>\n",
       "      <td>NaN</td>\n",
       "      <td>4513547</td>\n",
       "      <td>Sedan</td>\n",
       "      <td>NaN</td>\n",
       "      <td>NaN</td>\n",
       "      <td>NaN</td>\n",
       "      <td>NaN</td>\n",
       "    </tr>\n",
       "    <tr>\n",
       "      <th>2</th>\n",
       "      <td>06/29/2022</td>\n",
       "      <td>6:55</td>\n",
       "      <td>NaN</td>\n",
       "      <td>NaN</td>\n",
       "      <td>NaN</td>\n",
       "      <td>NaN</td>\n",
       "      <td>NaN</td>\n",
       "      <td>THROGS NECK BRIDGE</td>\n",
       "      <td>NaN</td>\n",
       "      <td>NaN</td>\n",
       "      <td>...</td>\n",
       "      <td>Unspecified</td>\n",
       "      <td>NaN</td>\n",
       "      <td>NaN</td>\n",
       "      <td>NaN</td>\n",
       "      <td>4541903</td>\n",
       "      <td>Sedan</td>\n",
       "      <td>Pick-up Truck</td>\n",
       "      <td>NaN</td>\n",
       "      <td>NaN</td>\n",
       "      <td>NaN</td>\n",
       "    </tr>\n",
       "    <tr>\n",
       "      <th>3</th>\n",
       "      <td>09/11/2021</td>\n",
       "      <td>9:35</td>\n",
       "      <td>BROOKLYN</td>\n",
       "      <td>11208.0</td>\n",
       "      <td>40.667202</td>\n",
       "      <td>-73.866500</td>\n",
       "      <td>(40.667202, -73.8665)</td>\n",
       "      <td>NaN</td>\n",
       "      <td>NaN</td>\n",
       "      <td>1211      LORING AVENUE</td>\n",
       "      <td>...</td>\n",
       "      <td>NaN</td>\n",
       "      <td>NaN</td>\n",
       "      <td>NaN</td>\n",
       "      <td>NaN</td>\n",
       "      <td>4456314</td>\n",
       "      <td>Sedan</td>\n",
       "      <td>NaN</td>\n",
       "      <td>NaN</td>\n",
       "      <td>NaN</td>\n",
       "      <td>NaN</td>\n",
       "    </tr>\n",
       "    <tr>\n",
       "      <th>4</th>\n",
       "      <td>12/14/2021</td>\n",
       "      <td>8:13</td>\n",
       "      <td>BROOKLYN</td>\n",
       "      <td>11233.0</td>\n",
       "      <td>40.683304</td>\n",
       "      <td>-73.917274</td>\n",
       "      <td>(40.683304, -73.917274)</td>\n",
       "      <td>SARATOGA AVENUE</td>\n",
       "      <td>DECATUR STREET</td>\n",
       "      <td>NaN</td>\n",
       "      <td>...</td>\n",
       "      <td>NaN</td>\n",
       "      <td>NaN</td>\n",
       "      <td>NaN</td>\n",
       "      <td>NaN</td>\n",
       "      <td>4486609</td>\n",
       "      <td>NaN</td>\n",
       "      <td>NaN</td>\n",
       "      <td>NaN</td>\n",
       "      <td>NaN</td>\n",
       "      <td>NaN</td>\n",
       "    </tr>\n",
       "    <tr>\n",
       "      <th>...</th>\n",
       "      <td>...</td>\n",
       "      <td>...</td>\n",
       "      <td>...</td>\n",
       "      <td>...</td>\n",
       "      <td>...</td>\n",
       "      <td>...</td>\n",
       "      <td>...</td>\n",
       "      <td>...</td>\n",
       "      <td>...</td>\n",
       "      <td>...</td>\n",
       "      <td>...</td>\n",
       "      <td>...</td>\n",
       "      <td>...</td>\n",
       "      <td>...</td>\n",
       "      <td>...</td>\n",
       "      <td>...</td>\n",
       "      <td>...</td>\n",
       "      <td>...</td>\n",
       "      <td>...</td>\n",
       "      <td>...</td>\n",
       "      <td>...</td>\n",
       "    </tr>\n",
       "    <tr>\n",
       "      <th>2076247</th>\n",
       "      <td>03/25/2024</td>\n",
       "      <td>18:44</td>\n",
       "      <td>NaN</td>\n",
       "      <td>NaN</td>\n",
       "      <td>40.740784</td>\n",
       "      <td>-73.815000</td>\n",
       "      <td>(40.740784, -73.815)</td>\n",
       "      <td>59 AVENUE</td>\n",
       "      <td>NaN</td>\n",
       "      <td>NaN</td>\n",
       "      <td>...</td>\n",
       "      <td>NaN</td>\n",
       "      <td>NaN</td>\n",
       "      <td>NaN</td>\n",
       "      <td>NaN</td>\n",
       "      <td>4712462</td>\n",
       "      <td>Station Wagon/Sport Utility Vehicle</td>\n",
       "      <td>NaN</td>\n",
       "      <td>NaN</td>\n",
       "      <td>NaN</td>\n",
       "      <td>NaN</td>\n",
       "    </tr>\n",
       "    <tr>\n",
       "      <th>2076248</th>\n",
       "      <td>03/25/2024</td>\n",
       "      <td>17:50</td>\n",
       "      <td>BROOKLYN</td>\n",
       "      <td>11212.0</td>\n",
       "      <td>40.658497</td>\n",
       "      <td>-73.904000</td>\n",
       "      <td>(40.658497, -73.904)</td>\n",
       "      <td>STONE AVENUE</td>\n",
       "      <td>LOTT AVENUE</td>\n",
       "      <td>NaN</td>\n",
       "      <td>...</td>\n",
       "      <td>Unspecified</td>\n",
       "      <td>NaN</td>\n",
       "      <td>NaN</td>\n",
       "      <td>NaN</td>\n",
       "      <td>4712873</td>\n",
       "      <td>Pick-up Truck</td>\n",
       "      <td>Sedan</td>\n",
       "      <td>NaN</td>\n",
       "      <td>NaN</td>\n",
       "      <td>NaN</td>\n",
       "    </tr>\n",
       "    <tr>\n",
       "      <th>2076249</th>\n",
       "      <td>03/18/2024</td>\n",
       "      <td>18:30</td>\n",
       "      <td>QUEENS</td>\n",
       "      <td>11102.0</td>\n",
       "      <td>40.772266</td>\n",
       "      <td>-73.927190</td>\n",
       "      <td>(40.772266, -73.92719)</td>\n",
       "      <td>NaN</td>\n",
       "      <td>NaN</td>\n",
       "      <td>18-17     ASTORIA BOULEVARD</td>\n",
       "      <td>...</td>\n",
       "      <td>NaN</td>\n",
       "      <td>NaN</td>\n",
       "      <td>NaN</td>\n",
       "      <td>NaN</td>\n",
       "      <td>4712882</td>\n",
       "      <td>Sedan</td>\n",
       "      <td>NaN</td>\n",
       "      <td>NaN</td>\n",
       "      <td>NaN</td>\n",
       "      <td>NaN</td>\n",
       "    </tr>\n",
       "    <tr>\n",
       "      <th>2076250</th>\n",
       "      <td>03/25/2024</td>\n",
       "      <td>9:45</td>\n",
       "      <td>BROOKLYN</td>\n",
       "      <td>11207.0</td>\n",
       "      <td>40.682655</td>\n",
       "      <td>-73.910034</td>\n",
       "      <td>(40.682655, -73.910034)</td>\n",
       "      <td>CHAUNCEY STREET</td>\n",
       "      <td>BROADWAY</td>\n",
       "      <td>NaN</td>\n",
       "      <td>...</td>\n",
       "      <td>Passing Too Closely</td>\n",
       "      <td>NaN</td>\n",
       "      <td>NaN</td>\n",
       "      <td>NaN</td>\n",
       "      <td>4712899</td>\n",
       "      <td>Sedan</td>\n",
       "      <td>Chassis Cab</td>\n",
       "      <td>NaN</td>\n",
       "      <td>NaN</td>\n",
       "      <td>NaN</td>\n",
       "    </tr>\n",
       "    <tr>\n",
       "      <th>2076251</th>\n",
       "      <td>03/25/2024</td>\n",
       "      <td>10:00</td>\n",
       "      <td>BROOKLYN</td>\n",
       "      <td>11224.0</td>\n",
       "      <td>40.578136</td>\n",
       "      <td>-73.981780</td>\n",
       "      <td>(40.578136, -73.98178)</td>\n",
       "      <td>NaN</td>\n",
       "      <td>NaN</td>\n",
       "      <td>2846      STILLWELL AVENUE</td>\n",
       "      <td>...</td>\n",
       "      <td>Unspecified</td>\n",
       "      <td>NaN</td>\n",
       "      <td>NaN</td>\n",
       "      <td>NaN</td>\n",
       "      <td>4712493</td>\n",
       "      <td>Sedan</td>\n",
       "      <td>Station Wagon/Sport Utility Vehicle</td>\n",
       "      <td>NaN</td>\n",
       "      <td>NaN</td>\n",
       "      <td>NaN</td>\n",
       "    </tr>\n",
       "  </tbody>\n",
       "</table>\n",
       "<p>2076252 rows × 29 columns</p>\n",
       "</div>"
      ],
      "text/plain": [
       "         CRASH DATE CRASH TIME   BOROUGH ZIP CODE   LATITUDE  LONGITUDE  \\\n",
       "0        09/11/2021       2:39       NaN      NaN        NaN        NaN   \n",
       "1        03/26/2022      11:45       NaN      NaN        NaN        NaN   \n",
       "2        06/29/2022       6:55       NaN      NaN        NaN        NaN   \n",
       "3        09/11/2021       9:35  BROOKLYN  11208.0  40.667202 -73.866500   \n",
       "4        12/14/2021       8:13  BROOKLYN  11233.0  40.683304 -73.917274   \n",
       "...             ...        ...       ...      ...        ...        ...   \n",
       "2076247  03/25/2024      18:44       NaN      NaN  40.740784 -73.815000   \n",
       "2076248  03/25/2024      17:50  BROOKLYN  11212.0  40.658497 -73.904000   \n",
       "2076249  03/18/2024      18:30    QUEENS  11102.0  40.772266 -73.927190   \n",
       "2076250  03/25/2024       9:45  BROOKLYN  11207.0  40.682655 -73.910034   \n",
       "2076251  03/25/2024      10:00  BROOKLYN  11224.0  40.578136 -73.981780   \n",
       "\n",
       "                        LOCATION           ON STREET NAME CROSS STREET NAME  \\\n",
       "0                            NaN    WHITESTONE EXPRESSWAY         20 AVENUE   \n",
       "1                            NaN  QUEENSBORO BRIDGE UPPER               NaN   \n",
       "2                            NaN       THROGS NECK BRIDGE               NaN   \n",
       "3          (40.667202, -73.8665)                      NaN               NaN   \n",
       "4        (40.683304, -73.917274)          SARATOGA AVENUE    DECATUR STREET   \n",
       "...                          ...                      ...               ...   \n",
       "2076247     (40.740784, -73.815)                59 AVENUE               NaN   \n",
       "2076248     (40.658497, -73.904)             STONE AVENUE       LOTT AVENUE   \n",
       "2076249   (40.772266, -73.92719)                      NaN               NaN   \n",
       "2076250  (40.682655, -73.910034)          CHAUNCEY STREET          BROADWAY   \n",
       "2076251   (40.578136, -73.98178)                      NaN               NaN   \n",
       "\n",
       "                     OFF STREET NAME  ...  CONTRIBUTING FACTOR VEHICLE 2  \\\n",
       "0                                NaN  ...                    Unspecified   \n",
       "1                                NaN  ...                            NaN   \n",
       "2                                NaN  ...                    Unspecified   \n",
       "3            1211      LORING AVENUE  ...                            NaN   \n",
       "4                                NaN  ...                            NaN   \n",
       "...                              ...  ...                            ...   \n",
       "2076247                          NaN  ...                            NaN   \n",
       "2076248                          NaN  ...                    Unspecified   \n",
       "2076249  18-17     ASTORIA BOULEVARD  ...                            NaN   \n",
       "2076250                          NaN  ...            Passing Too Closely   \n",
       "2076251   2846      STILLWELL AVENUE  ...                    Unspecified   \n",
       "\n",
       "         CONTRIBUTING FACTOR VEHICLE 3  CONTRIBUTING FACTOR VEHICLE 4  \\\n",
       "0                                  NaN                            NaN   \n",
       "1                                  NaN                            NaN   \n",
       "2                                  NaN                            NaN   \n",
       "3                                  NaN                            NaN   \n",
       "4                                  NaN                            NaN   \n",
       "...                                ...                            ...   \n",
       "2076247                            NaN                            NaN   \n",
       "2076248                            NaN                            NaN   \n",
       "2076249                            NaN                            NaN   \n",
       "2076250                            NaN                            NaN   \n",
       "2076251                            NaN                            NaN   \n",
       "\n",
       "         CONTRIBUTING FACTOR VEHICLE 5  COLLISION_ID  \\\n",
       "0                                  NaN       4455765   \n",
       "1                                  NaN       4513547   \n",
       "2                                  NaN       4541903   \n",
       "3                                  NaN       4456314   \n",
       "4                                  NaN       4486609   \n",
       "...                                ...           ...   \n",
       "2076247                            NaN       4712462   \n",
       "2076248                            NaN       4712873   \n",
       "2076249                            NaN       4712882   \n",
       "2076250                            NaN       4712899   \n",
       "2076251                            NaN       4712493   \n",
       "\n",
       "                         VEHICLE TYPE CODE 1  \\\n",
       "0                                      Sedan   \n",
       "1                                      Sedan   \n",
       "2                                      Sedan   \n",
       "3                                      Sedan   \n",
       "4                                        NaN   \n",
       "...                                      ...   \n",
       "2076247  Station Wagon/Sport Utility Vehicle   \n",
       "2076248                        Pick-up Truck   \n",
       "2076249                                Sedan   \n",
       "2076250                                Sedan   \n",
       "2076251                                Sedan   \n",
       "\n",
       "                         VEHICLE TYPE CODE 2  VEHICLE TYPE CODE 3  \\\n",
       "0                                      Sedan                  NaN   \n",
       "1                                        NaN                  NaN   \n",
       "2                              Pick-up Truck                  NaN   \n",
       "3                                        NaN                  NaN   \n",
       "4                                        NaN                  NaN   \n",
       "...                                      ...                  ...   \n",
       "2076247                                  NaN                  NaN   \n",
       "2076248                                Sedan                  NaN   \n",
       "2076249                                  NaN                  NaN   \n",
       "2076250                          Chassis Cab                  NaN   \n",
       "2076251  Station Wagon/Sport Utility Vehicle                  NaN   \n",
       "\n",
       "        VEHICLE TYPE CODE 4 VEHICLE TYPE CODE 5  \n",
       "0                       NaN                 NaN  \n",
       "1                       NaN                 NaN  \n",
       "2                       NaN                 NaN  \n",
       "3                       NaN                 NaN  \n",
       "4                       NaN                 NaN  \n",
       "...                     ...                 ...  \n",
       "2076247                 NaN                 NaN  \n",
       "2076248                 NaN                 NaN  \n",
       "2076249                 NaN                 NaN  \n",
       "2076250                 NaN                 NaN  \n",
       "2076251                 NaN                 NaN  \n",
       "\n",
       "[2076252 rows x 29 columns]"
      ]
     },
     "execution_count": 2,
     "metadata": {},
     "output_type": "execute_result"
    }
   ],
   "source": [
    "df=pd.read_csv('D:/accident_severity_analytics/data/raw/Motor_Vehicle_Crashes.csv')\n",
    "df"
   ]
  },
  {
   "cell_type": "code",
   "execution_count": 3,
   "metadata": {},
   "outputs": [
    {
     "data": {
      "text/html": [
       "<div>\n",
       "<style scoped>\n",
       "    .dataframe tbody tr th:only-of-type {\n",
       "        vertical-align: middle;\n",
       "    }\n",
       "\n",
       "    .dataframe tbody tr th {\n",
       "        vertical-align: top;\n",
       "    }\n",
       "\n",
       "    .dataframe thead th {\n",
       "        text-align: right;\n",
       "    }\n",
       "</style>\n",
       "<table border=\"1\" class=\"dataframe\">\n",
       "  <thead>\n",
       "    <tr style=\"text-align: right;\">\n",
       "      <th></th>\n",
       "      <th>CRASH DATE</th>\n",
       "      <th>CRASH TIME</th>\n",
       "      <th>BOROUGH</th>\n",
       "      <th>ZIP CODE</th>\n",
       "      <th>LATITUDE</th>\n",
       "      <th>LONGITUDE</th>\n",
       "      <th>LOCATION</th>\n",
       "      <th>ON STREET NAME</th>\n",
       "      <th>CROSS STREET NAME</th>\n",
       "      <th>OFF STREET NAME</th>\n",
       "      <th>...</th>\n",
       "      <th>CONTRIBUTING FACTOR VEHICLE 2</th>\n",
       "      <th>CONTRIBUTING FACTOR VEHICLE 3</th>\n",
       "      <th>CONTRIBUTING FACTOR VEHICLE 4</th>\n",
       "      <th>CONTRIBUTING FACTOR VEHICLE 5</th>\n",
       "      <th>COLLISION_ID</th>\n",
       "      <th>VEHICLE TYPE CODE 1</th>\n",
       "      <th>VEHICLE TYPE CODE 2</th>\n",
       "      <th>VEHICLE TYPE CODE 3</th>\n",
       "      <th>VEHICLE TYPE CODE 4</th>\n",
       "      <th>VEHICLE TYPE CODE 5</th>\n",
       "    </tr>\n",
       "  </thead>\n",
       "  <tbody>\n",
       "    <tr>\n",
       "      <th>0</th>\n",
       "      <td>09/11/2021</td>\n",
       "      <td>2:39</td>\n",
       "      <td>NaN</td>\n",
       "      <td>NaN</td>\n",
       "      <td>NaN</td>\n",
       "      <td>NaN</td>\n",
       "      <td>NaN</td>\n",
       "      <td>WHITESTONE EXPRESSWAY</td>\n",
       "      <td>20 AVENUE</td>\n",
       "      <td>NaN</td>\n",
       "      <td>...</td>\n",
       "      <td>Unspecified</td>\n",
       "      <td>NaN</td>\n",
       "      <td>NaN</td>\n",
       "      <td>NaN</td>\n",
       "      <td>4455765</td>\n",
       "      <td>Sedan</td>\n",
       "      <td>Sedan</td>\n",
       "      <td>NaN</td>\n",
       "      <td>NaN</td>\n",
       "      <td>NaN</td>\n",
       "    </tr>\n",
       "    <tr>\n",
       "      <th>1</th>\n",
       "      <td>03/26/2022</td>\n",
       "      <td>11:45</td>\n",
       "      <td>NaN</td>\n",
       "      <td>NaN</td>\n",
       "      <td>NaN</td>\n",
       "      <td>NaN</td>\n",
       "      <td>NaN</td>\n",
       "      <td>QUEENSBORO BRIDGE UPPER</td>\n",
       "      <td>NaN</td>\n",
       "      <td>NaN</td>\n",
       "      <td>...</td>\n",
       "      <td>NaN</td>\n",
       "      <td>NaN</td>\n",
       "      <td>NaN</td>\n",
       "      <td>NaN</td>\n",
       "      <td>4513547</td>\n",
       "      <td>Sedan</td>\n",
       "      <td>NaN</td>\n",
       "      <td>NaN</td>\n",
       "      <td>NaN</td>\n",
       "      <td>NaN</td>\n",
       "    </tr>\n",
       "    <tr>\n",
       "      <th>2</th>\n",
       "      <td>06/29/2022</td>\n",
       "      <td>6:55</td>\n",
       "      <td>NaN</td>\n",
       "      <td>NaN</td>\n",
       "      <td>NaN</td>\n",
       "      <td>NaN</td>\n",
       "      <td>NaN</td>\n",
       "      <td>THROGS NECK BRIDGE</td>\n",
       "      <td>NaN</td>\n",
       "      <td>NaN</td>\n",
       "      <td>...</td>\n",
       "      <td>Unspecified</td>\n",
       "      <td>NaN</td>\n",
       "      <td>NaN</td>\n",
       "      <td>NaN</td>\n",
       "      <td>4541903</td>\n",
       "      <td>Sedan</td>\n",
       "      <td>Pick-up Truck</td>\n",
       "      <td>NaN</td>\n",
       "      <td>NaN</td>\n",
       "      <td>NaN</td>\n",
       "    </tr>\n",
       "    <tr>\n",
       "      <th>3</th>\n",
       "      <td>09/11/2021</td>\n",
       "      <td>9:35</td>\n",
       "      <td>BROOKLYN</td>\n",
       "      <td>11208.0</td>\n",
       "      <td>40.667202</td>\n",
       "      <td>-73.866500</td>\n",
       "      <td>(40.667202, -73.8665)</td>\n",
       "      <td>NaN</td>\n",
       "      <td>NaN</td>\n",
       "      <td>1211      LORING AVENUE</td>\n",
       "      <td>...</td>\n",
       "      <td>NaN</td>\n",
       "      <td>NaN</td>\n",
       "      <td>NaN</td>\n",
       "      <td>NaN</td>\n",
       "      <td>4456314</td>\n",
       "      <td>Sedan</td>\n",
       "      <td>NaN</td>\n",
       "      <td>NaN</td>\n",
       "      <td>NaN</td>\n",
       "      <td>NaN</td>\n",
       "    </tr>\n",
       "    <tr>\n",
       "      <th>4</th>\n",
       "      <td>12/14/2021</td>\n",
       "      <td>8:13</td>\n",
       "      <td>BROOKLYN</td>\n",
       "      <td>11233.0</td>\n",
       "      <td>40.683304</td>\n",
       "      <td>-73.917274</td>\n",
       "      <td>(40.683304, -73.917274)</td>\n",
       "      <td>SARATOGA AVENUE</td>\n",
       "      <td>DECATUR STREET</td>\n",
       "      <td>NaN</td>\n",
       "      <td>...</td>\n",
       "      <td>NaN</td>\n",
       "      <td>NaN</td>\n",
       "      <td>NaN</td>\n",
       "      <td>NaN</td>\n",
       "      <td>4486609</td>\n",
       "      <td>NaN</td>\n",
       "      <td>NaN</td>\n",
       "      <td>NaN</td>\n",
       "      <td>NaN</td>\n",
       "      <td>NaN</td>\n",
       "    </tr>\n",
       "  </tbody>\n",
       "</table>\n",
       "<p>5 rows × 29 columns</p>\n",
       "</div>"
      ],
      "text/plain": [
       "   CRASH DATE CRASH TIME   BOROUGH ZIP CODE   LATITUDE  LONGITUDE  \\\n",
       "0  09/11/2021       2:39       NaN      NaN        NaN        NaN   \n",
       "1  03/26/2022      11:45       NaN      NaN        NaN        NaN   \n",
       "2  06/29/2022       6:55       NaN      NaN        NaN        NaN   \n",
       "3  09/11/2021       9:35  BROOKLYN  11208.0  40.667202 -73.866500   \n",
       "4  12/14/2021       8:13  BROOKLYN  11233.0  40.683304 -73.917274   \n",
       "\n",
       "                  LOCATION           ON STREET NAME CROSS STREET NAME  \\\n",
       "0                      NaN    WHITESTONE EXPRESSWAY         20 AVENUE   \n",
       "1                      NaN  QUEENSBORO BRIDGE UPPER               NaN   \n",
       "2                      NaN       THROGS NECK BRIDGE               NaN   \n",
       "3    (40.667202, -73.8665)                      NaN               NaN   \n",
       "4  (40.683304, -73.917274)          SARATOGA AVENUE    DECATUR STREET   \n",
       "\n",
       "           OFF STREET NAME  ...  CONTRIBUTING FACTOR VEHICLE 2  \\\n",
       "0                      NaN  ...                    Unspecified   \n",
       "1                      NaN  ...                            NaN   \n",
       "2                      NaN  ...                    Unspecified   \n",
       "3  1211      LORING AVENUE  ...                            NaN   \n",
       "4                      NaN  ...                            NaN   \n",
       "\n",
       "   CONTRIBUTING FACTOR VEHICLE 3  CONTRIBUTING FACTOR VEHICLE 4  \\\n",
       "0                            NaN                            NaN   \n",
       "1                            NaN                            NaN   \n",
       "2                            NaN                            NaN   \n",
       "3                            NaN                            NaN   \n",
       "4                            NaN                            NaN   \n",
       "\n",
       "   CONTRIBUTING FACTOR VEHICLE 5  COLLISION_ID  VEHICLE TYPE CODE 1  \\\n",
       "0                            NaN       4455765                Sedan   \n",
       "1                            NaN       4513547                Sedan   \n",
       "2                            NaN       4541903                Sedan   \n",
       "3                            NaN       4456314                Sedan   \n",
       "4                            NaN       4486609                  NaN   \n",
       "\n",
       "   VEHICLE TYPE CODE 2  VEHICLE TYPE CODE 3 VEHICLE TYPE CODE 4  \\\n",
       "0                Sedan                  NaN                 NaN   \n",
       "1                  NaN                  NaN                 NaN   \n",
       "2        Pick-up Truck                  NaN                 NaN   \n",
       "3                  NaN                  NaN                 NaN   \n",
       "4                  NaN                  NaN                 NaN   \n",
       "\n",
       "  VEHICLE TYPE CODE 5  \n",
       "0                 NaN  \n",
       "1                 NaN  \n",
       "2                 NaN  \n",
       "3                 NaN  \n",
       "4                 NaN  \n",
       "\n",
       "[5 rows x 29 columns]"
      ]
     },
     "execution_count": 3,
     "metadata": {},
     "output_type": "execute_result"
    }
   ],
   "source": [
    "df.head()"
   ]
  },
  {
   "cell_type": "code",
   "execution_count": 4,
   "metadata": {},
   "outputs": [
    {
     "name": "stdout",
     "output_type": "stream",
     "text": [
      "<class 'pandas.core.frame.DataFrame'>\n",
      "RangeIndex: 2076252 entries, 0 to 2076251\n",
      "Data columns (total 29 columns):\n",
      " #   Column                         Dtype  \n",
      "---  ------                         -----  \n",
      " 0   CRASH DATE                     object \n",
      " 1   CRASH TIME                     object \n",
      " 2   BOROUGH                        object \n",
      " 3   ZIP CODE                       object \n",
      " 4   LATITUDE                       float64\n",
      " 5   LONGITUDE                      float64\n",
      " 6   LOCATION                       object \n",
      " 7   ON STREET NAME                 object \n",
      " 8   CROSS STREET NAME              object \n",
      " 9   OFF STREET NAME                object \n",
      " 10  NUMBER OF PERSONS INJURED      float64\n",
      " 11  NUMBER OF PERSONS KILLED       float64\n",
      " 12  NUMBER OF PEDESTRIANS INJURED  int64  \n",
      " 13  NUMBER OF PEDESTRIANS KILLED   int64  \n",
      " 14  NUMBER OF CYCLIST INJURED      int64  \n",
      " 15  NUMBER OF CYCLIST KILLED       int64  \n",
      " 16  NUMBER OF MOTORIST INJURED     int64  \n",
      " 17  NUMBER OF MOTORIST KILLED      int64  \n",
      " 18  CONTRIBUTING FACTOR VEHICLE 1  object \n",
      " 19  CONTRIBUTING FACTOR VEHICLE 2  object \n",
      " 20  CONTRIBUTING FACTOR VEHICLE 3  object \n",
      " 21  CONTRIBUTING FACTOR VEHICLE 4  object \n",
      " 22  CONTRIBUTING FACTOR VEHICLE 5  object \n",
      " 23  COLLISION_ID                   int64  \n",
      " 24  VEHICLE TYPE CODE 1            object \n",
      " 25  VEHICLE TYPE CODE 2            object \n",
      " 26  VEHICLE TYPE CODE 3            object \n",
      " 27  VEHICLE TYPE CODE 4            object \n",
      " 28  VEHICLE TYPE CODE 5            object \n",
      "dtypes: float64(4), int64(7), object(18)\n",
      "memory usage: 459.4+ MB\n"
     ]
    }
   ],
   "source": [
    "df.info()"
   ]
  },
  {
   "cell_type": "code",
   "execution_count": 5,
   "metadata": {},
   "outputs": [
    {
     "data": {
      "text/plain": [
       "CRASH DATE                             0\n",
       "CRASH TIME                             0\n",
       "BOROUGH                           646011\n",
       "ZIP CODE                          646261\n",
       "LATITUDE                          233688\n",
       "LONGITUDE                         233688\n",
       "LOCATION                          233688\n",
       "ON STREET NAME                    440794\n",
       "CROSS STREET NAME                 784860\n",
       "OFF STREET NAME                  1727831\n",
       "NUMBER OF PERSONS INJURED             18\n",
       "NUMBER OF PERSONS KILLED              31\n",
       "NUMBER OF PEDESTRIANS INJURED          0\n",
       "NUMBER OF PEDESTRIANS KILLED           0\n",
       "NUMBER OF CYCLIST INJURED              0\n",
       "NUMBER OF CYCLIST KILLED               0\n",
       "NUMBER OF MOTORIST INJURED             0\n",
       "NUMBER OF MOTORIST KILLED              0\n",
       "CONTRIBUTING FACTOR VEHICLE 1       6809\n",
       "CONTRIBUTING FACTOR VEHICLE 2     321936\n",
       "CONTRIBUTING FACTOR VEHICLE 3    1927903\n",
       "CONTRIBUTING FACTOR VEHICLE 4    2042754\n",
       "CONTRIBUTING FACTOR VEHICLE 5    2067177\n",
       "COLLISION_ID                           0\n",
       "VEHICLE TYPE CODE 1                13708\n",
       "VEHICLE TYPE CODE 2               396982\n",
       "VEHICLE TYPE CODE 3              1933279\n",
       "VEHICLE TYPE CODE 4              2043918\n",
       "VEHICLE TYPE CODE 5              2067455\n",
       "dtype: int64"
      ]
     },
     "execution_count": 5,
     "metadata": {},
     "output_type": "execute_result"
    }
   ],
   "source": [
    "df.isnull().sum()"
   ]
  },
  {
   "cell_type": "code",
   "execution_count": 6,
   "metadata": {},
   "outputs": [],
   "source": [
    "df.drop('LOCATION',axis=1,inplace=True)\n",
    "df.drop('OFF STREET NAME',axis=1,inplace=True)\n",
    "df.drop('CONTRIBUTING FACTOR VEHICLE 3',axis=1,inplace=True)\n",
    "df.drop('CONTRIBUTING FACTOR VEHICLE 4',axis=1,inplace=True)\n",
    "df.drop('CONTRIBUTING FACTOR VEHICLE 5',axis=1,inplace=True)\n",
    "df.drop('VEHICLE TYPE CODE 3',axis=1,inplace=True)\n",
    "df.drop('VEHICLE TYPE CODE 4',axis=1,inplace=True)\n",
    "df.drop('VEHICLE TYPE CODE 5',axis=1,inplace=True)"
   ]
  },
  {
   "cell_type": "code",
   "execution_count": 7,
   "metadata": {},
   "outputs": [
    {
     "data": {
      "text/plain": [
       "CRASH DATE                            0\n",
       "CRASH TIME                            0\n",
       "BOROUGH                          646011\n",
       "ZIP CODE                         646261\n",
       "LATITUDE                         233688\n",
       "LONGITUDE                        233688\n",
       "ON STREET NAME                   440794\n",
       "CROSS STREET NAME                784860\n",
       "NUMBER OF PERSONS INJURED            18\n",
       "NUMBER OF PERSONS KILLED             31\n",
       "NUMBER OF PEDESTRIANS INJURED         0\n",
       "NUMBER OF PEDESTRIANS KILLED          0\n",
       "NUMBER OF CYCLIST INJURED             0\n",
       "NUMBER OF CYCLIST KILLED              0\n",
       "NUMBER OF MOTORIST INJURED            0\n",
       "NUMBER OF MOTORIST KILLED             0\n",
       "CONTRIBUTING FACTOR VEHICLE 1      6809\n",
       "CONTRIBUTING FACTOR VEHICLE 2    321936\n",
       "COLLISION_ID                          0\n",
       "VEHICLE TYPE CODE 1               13708\n",
       "VEHICLE TYPE CODE 2              396982\n",
       "dtype: int64"
      ]
     },
     "execution_count": 7,
     "metadata": {},
     "output_type": "execute_result"
    }
   ],
   "source": [
    "df.isnull().sum()"
   ]
  },
  {
   "cell_type": "code",
   "execution_count": 8,
   "metadata": {},
   "outputs": [],
   "source": [
    "df.dropna(subset=['CROSS STREET NAME'], inplace=True)"
   ]
  },
  {
   "cell_type": "code",
   "execution_count": 9,
   "metadata": {},
   "outputs": [
    {
     "data": {
      "text/plain": [
       "CRASH DATE                            0\n",
       "CRASH TIME                            0\n",
       "BOROUGH                          175627\n",
       "ZIP CODE                         175784\n",
       "LATITUDE                         141096\n",
       "LONGITUDE                        141096\n",
       "ON STREET NAME                      346\n",
       "CROSS STREET NAME                     0\n",
       "NUMBER OF PERSONS INJURED             5\n",
       "NUMBER OF PERSONS KILLED             11\n",
       "NUMBER OF PEDESTRIANS INJURED         0\n",
       "NUMBER OF PEDESTRIANS KILLED          0\n",
       "NUMBER OF CYCLIST INJURED             0\n",
       "NUMBER OF CYCLIST KILLED              0\n",
       "NUMBER OF MOTORIST INJURED            0\n",
       "NUMBER OF MOTORIST KILLED             0\n",
       "CONTRIBUTING FACTOR VEHICLE 1      4402\n",
       "CONTRIBUTING FACTOR VEHICLE 2    184495\n",
       "COLLISION_ID                          0\n",
       "VEHICLE TYPE CODE 1                8130\n",
       "VEHICLE TYPE CODE 2              208852\n",
       "dtype: int64"
      ]
     },
     "execution_count": 9,
     "metadata": {},
     "output_type": "execute_result"
    }
   ],
   "source": [
    "df.isnull().sum()"
   ]
  },
  {
   "cell_type": "code",
   "execution_count": 10,
   "metadata": {},
   "outputs": [],
   "source": [
    "df.dropna(subset=['BOROUGH'], inplace=True)"
   ]
  },
  {
   "cell_type": "code",
   "execution_count": 11,
   "metadata": {},
   "outputs": [
    {
     "data": {
      "text/plain": [
       "CRASH DATE                            0\n",
       "CRASH TIME                            0\n",
       "BOROUGH                               0\n",
       "ZIP CODE                            157\n",
       "LATITUDE                          30299\n",
       "LONGITUDE                         30299\n",
       "ON STREET NAME                        0\n",
       "CROSS STREET NAME                     0\n",
       "NUMBER OF PERSONS INJURED             5\n",
       "NUMBER OF PERSONS KILLED              9\n",
       "NUMBER OF PEDESTRIANS INJURED         0\n",
       "NUMBER OF PEDESTRIANS KILLED          0\n",
       "NUMBER OF CYCLIST INJURED             0\n",
       "NUMBER OF CYCLIST KILLED              0\n",
       "NUMBER OF MOTORIST INJURED            0\n",
       "NUMBER OF MOTORIST KILLED             0\n",
       "CONTRIBUTING FACTOR VEHICLE 1      3878\n",
       "CONTRIBUTING FACTOR VEHICLE 2    161587\n",
       "COLLISION_ID                          0\n",
       "VEHICLE TYPE CODE 1                7144\n",
       "VEHICLE TYPE CODE 2              181851\n",
       "dtype: int64"
      ]
     },
     "execution_count": 11,
     "metadata": {},
     "output_type": "execute_result"
    }
   ],
   "source": [
    "df.isnull().sum()"
   ]
  },
  {
   "cell_type": "code",
   "execution_count": 12,
   "metadata": {},
   "outputs": [],
   "source": [
    "df.dropna(subset=['LATITUDE'], inplace=True)"
   ]
  },
  {
   "cell_type": "code",
   "execution_count": 13,
   "metadata": {},
   "outputs": [
    {
     "data": {
      "text/plain": [
       "CRASH DATE                            0\n",
       "CRASH TIME                            0\n",
       "BOROUGH                               0\n",
       "ZIP CODE                            151\n",
       "LATITUDE                              0\n",
       "LONGITUDE                             0\n",
       "ON STREET NAME                        0\n",
       "CROSS STREET NAME                     0\n",
       "NUMBER OF PERSONS INJURED             5\n",
       "NUMBER OF PERSONS KILLED              9\n",
       "NUMBER OF PEDESTRIANS INJURED         0\n",
       "NUMBER OF PEDESTRIANS KILLED          0\n",
       "NUMBER OF CYCLIST INJURED             0\n",
       "NUMBER OF CYCLIST KILLED              0\n",
       "NUMBER OF MOTORIST INJURED            0\n",
       "NUMBER OF MOTORIST KILLED             0\n",
       "CONTRIBUTING FACTOR VEHICLE 1      3749\n",
       "CONTRIBUTING FACTOR VEHICLE 2    157191\n",
       "COLLISION_ID                          0\n",
       "VEHICLE TYPE CODE 1                6655\n",
       "VEHICLE TYPE CODE 2              175521\n",
       "dtype: int64"
      ]
     },
     "execution_count": 13,
     "metadata": {},
     "output_type": "execute_result"
    }
   ],
   "source": [
    "df.isnull().sum()"
   ]
  },
  {
   "cell_type": "code",
   "execution_count": 14,
   "metadata": {},
   "outputs": [],
   "source": [
    "df.dropna(subset=['CONTRIBUTING FACTOR VEHICLE 2'], inplace=True)"
   ]
  },
  {
   "cell_type": "code",
   "execution_count": 15,
   "metadata": {},
   "outputs": [
    {
     "data": {
      "text/plain": [
       "CRASH DATE                           0\n",
       "CRASH TIME                           0\n",
       "BOROUGH                              0\n",
       "ZIP CODE                           135\n",
       "LATITUDE                             0\n",
       "LONGITUDE                            0\n",
       "ON STREET NAME                       0\n",
       "CROSS STREET NAME                    0\n",
       "NUMBER OF PERSONS INJURED            1\n",
       "NUMBER OF PERSONS KILLED             1\n",
       "NUMBER OF PEDESTRIANS INJURED        0\n",
       "NUMBER OF PEDESTRIANS KILLED         0\n",
       "NUMBER OF CYCLIST INJURED            0\n",
       "NUMBER OF CYCLIST KILLED             0\n",
       "NUMBER OF MOTORIST INJURED           0\n",
       "NUMBER OF MOTORIST KILLED            0\n",
       "CONTRIBUTING FACTOR VEHICLE 1        0\n",
       "CONTRIBUTING FACTOR VEHICLE 2        0\n",
       "COLLISION_ID                         0\n",
       "VEHICLE TYPE CODE 1               1181\n",
       "VEHICLE TYPE CODE 2              36569\n",
       "dtype: int64"
      ]
     },
     "execution_count": 15,
     "metadata": {},
     "output_type": "execute_result"
    }
   ],
   "source": [
    "df.isnull().sum()"
   ]
  },
  {
   "cell_type": "code",
   "execution_count": 16,
   "metadata": {},
   "outputs": [],
   "source": [
    "df.dropna(subset=['VEHICLE TYPE CODE 2'], inplace=True)"
   ]
  },
  {
   "cell_type": "code",
   "execution_count": 17,
   "metadata": {},
   "outputs": [
    {
     "data": {
      "text/plain": [
       "CRASH DATE                         0\n",
       "CRASH TIME                         0\n",
       "BOROUGH                            0\n",
       "ZIP CODE                         130\n",
       "LATITUDE                           0\n",
       "LONGITUDE                          0\n",
       "ON STREET NAME                     0\n",
       "CROSS STREET NAME                  0\n",
       "NUMBER OF PERSONS INJURED          1\n",
       "NUMBER OF PERSONS KILLED           1\n",
       "NUMBER OF PEDESTRIANS INJURED      0\n",
       "NUMBER OF PEDESTRIANS KILLED       0\n",
       "NUMBER OF CYCLIST INJURED          0\n",
       "NUMBER OF CYCLIST KILLED           0\n",
       "NUMBER OF MOTORIST INJURED         0\n",
       "NUMBER OF MOTORIST KILLED          0\n",
       "CONTRIBUTING FACTOR VEHICLE 1      0\n",
       "CONTRIBUTING FACTOR VEHICLE 2      0\n",
       "COLLISION_ID                       0\n",
       "VEHICLE TYPE CODE 1                2\n",
       "VEHICLE TYPE CODE 2                0\n",
       "dtype: int64"
      ]
     },
     "execution_count": 17,
     "metadata": {},
     "output_type": "execute_result"
    }
   ],
   "source": [
    "df.isnull().sum()"
   ]
  },
  {
   "cell_type": "code",
   "execution_count": 18,
   "metadata": {},
   "outputs": [],
   "source": [
    "df['NUMBER OF PERSONS INJURED']=df['NUMBER OF PERSONS INJURED'].fillna(0)\n",
    "df['NUMBER OF PERSONS KILLED']=df['NUMBER OF PERSONS KILLED'].fillna(0)\n",
    "df['VEHICLE TYPE CODE 1']=df['VEHICLE TYPE CODE 1'].fillna('Missing')"
   ]
  },
  {
   "cell_type": "code",
   "execution_count": 19,
   "metadata": {},
   "outputs": [
    {
     "data": {
      "text/plain": [
       "CRASH DATE                         0\n",
       "CRASH TIME                         0\n",
       "BOROUGH                            0\n",
       "ZIP CODE                         130\n",
       "LATITUDE                           0\n",
       "LONGITUDE                          0\n",
       "ON STREET NAME                     0\n",
       "CROSS STREET NAME                  0\n",
       "NUMBER OF PERSONS INJURED          0\n",
       "NUMBER OF PERSONS KILLED           0\n",
       "NUMBER OF PEDESTRIANS INJURED      0\n",
       "NUMBER OF PEDESTRIANS KILLED       0\n",
       "NUMBER OF CYCLIST INJURED          0\n",
       "NUMBER OF CYCLIST KILLED           0\n",
       "NUMBER OF MOTORIST INJURED         0\n",
       "NUMBER OF MOTORIST KILLED          0\n",
       "CONTRIBUTING FACTOR VEHICLE 1      0\n",
       "CONTRIBUTING FACTOR VEHICLE 2      0\n",
       "COLLISION_ID                       0\n",
       "VEHICLE TYPE CODE 1                0\n",
       "VEHICLE TYPE CODE 2                0\n",
       "dtype: int64"
      ]
     },
     "execution_count": 19,
     "metadata": {},
     "output_type": "execute_result"
    }
   ],
   "source": [
    "df.isnull().sum()"
   ]
  },
  {
   "cell_type": "code",
   "execution_count": 20,
   "metadata": {},
   "outputs": [
    {
     "data": {
      "text/plain": [
       "(891706, 21)"
      ]
     },
     "execution_count": 20,
     "metadata": {},
     "output_type": "execute_result"
    }
   ],
   "source": [
    "df.shape"
   ]
  },
  {
   "cell_type": "code",
   "execution_count": 21,
   "metadata": {},
   "outputs": [],
   "source": [
    "df.columns=df.columns.str.lower()"
   ]
  },
  {
   "cell_type": "code",
   "execution_count": 22,
   "metadata": {},
   "outputs": [
    {
     "name": "stdout",
     "output_type": "stream",
     "text": [
      "<class 'pandas.core.frame.DataFrame'>\n",
      "Index: 891706 entries, 9 to 2076250\n",
      "Data columns (total 21 columns):\n",
      " #   Column                         Non-Null Count   Dtype  \n",
      "---  ------                         --------------   -----  \n",
      " 0   crash date                     891706 non-null  object \n",
      " 1   crash time                     891706 non-null  object \n",
      " 2   borough                        891706 non-null  object \n",
      " 3   zip code                       891576 non-null  object \n",
      " 4   latitude                       891706 non-null  float64\n",
      " 5   longitude                      891706 non-null  float64\n",
      " 6   on street name                 891706 non-null  object \n",
      " 7   cross street name              891706 non-null  object \n",
      " 8   number of persons injured      891706 non-null  float64\n",
      " 9   number of persons killed       891706 non-null  float64\n",
      " 10  number of pedestrians injured  891706 non-null  int64  \n",
      " 11  number of pedestrians killed   891706 non-null  int64  \n",
      " 12  number of cyclist injured      891706 non-null  int64  \n",
      " 13  number of cyclist killed       891706 non-null  int64  \n",
      " 14  number of motorist injured     891706 non-null  int64  \n",
      " 15  number of motorist killed      891706 non-null  int64  \n",
      " 16  contributing factor vehicle 1  891706 non-null  object \n",
      " 17  contributing factor vehicle 2  891706 non-null  object \n",
      " 18  collision_id                   891706 non-null  int64  \n",
      " 19  vehicle type code 1            891706 non-null  object \n",
      " 20  vehicle type code 2            891706 non-null  object \n",
      "dtypes: float64(4), int64(7), object(10)\n",
      "memory usage: 149.7+ MB\n"
     ]
    }
   ],
   "source": [
    "df.info()"
   ]
  },
  {
   "cell_type": "code",
   "execution_count": 23,
   "metadata": {},
   "outputs": [],
   "source": [
    "df['crash date'] = pd.to_datetime(df['crash date'])\n",
    "df['crash time'] = pd.to_datetime(df['crash time'],format= '%H:%M')\n",
    "df['zip code'] = df['zip code'].str.strip()\n",
    "df['zip code'] = pd.to_numeric(df['zip code'], errors='coerce').astype(pd.Int64Dtype())"
   ]
  },
  {
   "cell_type": "code",
   "execution_count": 24,
   "metadata": {},
   "outputs": [
    {
     "name": "stdout",
     "output_type": "stream",
     "text": [
      "<class 'pandas.core.frame.DataFrame'>\n",
      "Index: 891706 entries, 9 to 2076250\n",
      "Data columns (total 21 columns):\n",
      " #   Column                         Non-Null Count   Dtype         \n",
      "---  ------                         --------------   -----         \n",
      " 0   crash date                     891706 non-null  datetime64[ns]\n",
      " 1   crash time                     891706 non-null  datetime64[ns]\n",
      " 2   borough                        891706 non-null  object        \n",
      " 3   zip code                       342973 non-null  Int64         \n",
      " 4   latitude                       891706 non-null  float64       \n",
      " 5   longitude                      891706 non-null  float64       \n",
      " 6   on street name                 891706 non-null  object        \n",
      " 7   cross street name              891706 non-null  object        \n",
      " 8   number of persons injured      891706 non-null  float64       \n",
      " 9   number of persons killed       891706 non-null  float64       \n",
      " 10  number of pedestrians injured  891706 non-null  int64         \n",
      " 11  number of pedestrians killed   891706 non-null  int64         \n",
      " 12  number of cyclist injured      891706 non-null  int64         \n",
      " 13  number of cyclist killed       891706 non-null  int64         \n",
      " 14  number of motorist injured     891706 non-null  int64         \n",
      " 15  number of motorist killed      891706 non-null  int64         \n",
      " 16  contributing factor vehicle 1  891706 non-null  object        \n",
      " 17  contributing factor vehicle 2  891706 non-null  object        \n",
      " 18  collision_id                   891706 non-null  int64         \n",
      " 19  vehicle type code 1            891706 non-null  object        \n",
      " 20  vehicle type code 2            891706 non-null  object        \n",
      "dtypes: Int64(1), datetime64[ns](2), float64(4), int64(7), object(7)\n",
      "memory usage: 150.5+ MB\n"
     ]
    }
   ],
   "source": [
    "df.info()"
   ]
  },
  {
   "cell_type": "code",
   "execution_count": 25,
   "metadata": {},
   "outputs": [
    {
     "data": {
      "text/plain": [
       "crash date                            0\n",
       "crash time                            0\n",
       "borough                               0\n",
       "zip code                         548733\n",
       "latitude                              0\n",
       "longitude                             0\n",
       "on street name                        0\n",
       "cross street name                     0\n",
       "number of persons injured             0\n",
       "number of persons killed              0\n",
       "number of pedestrians injured         0\n",
       "number of pedestrians killed          0\n",
       "number of cyclist injured             0\n",
       "number of cyclist killed              0\n",
       "number of motorist injured            0\n",
       "number of motorist killed             0\n",
       "contributing factor vehicle 1         0\n",
       "contributing factor vehicle 2         0\n",
       "collision_id                          0\n",
       "vehicle type code 1                   0\n",
       "vehicle type code 2                   0\n",
       "dtype: int64"
      ]
     },
     "execution_count": 25,
     "metadata": {},
     "output_type": "execute_result"
    }
   ],
   "source": [
    "df.isnull().sum()"
   ]
  },
  {
   "cell_type": "code",
   "execution_count": 26,
   "metadata": {},
   "outputs": [],
   "source": [
    "df.drop('zip code',axis=1,inplace=True)"
   ]
  },
  {
   "cell_type": "code",
   "execution_count": 27,
   "metadata": {},
   "outputs": [
    {
     "data": {
      "text/plain": [
       "crash date                       0\n",
       "crash time                       0\n",
       "borough                          0\n",
       "latitude                         0\n",
       "longitude                        0\n",
       "on street name                   0\n",
       "cross street name                0\n",
       "number of persons injured        0\n",
       "number of persons killed         0\n",
       "number of pedestrians injured    0\n",
       "number of pedestrians killed     0\n",
       "number of cyclist injured        0\n",
       "number of cyclist killed         0\n",
       "number of motorist injured       0\n",
       "number of motorist killed        0\n",
       "contributing factor vehicle 1    0\n",
       "contributing factor vehicle 2    0\n",
       "collision_id                     0\n",
       "vehicle type code 1              0\n",
       "vehicle type code 2              0\n",
       "dtype: int64"
      ]
     },
     "execution_count": 27,
     "metadata": {},
     "output_type": "execute_result"
    }
   ],
   "source": [
    "df.isnull().sum()"
   ]
  },
  {
   "cell_type": "code",
   "execution_count": 28,
   "metadata": {},
   "outputs": [
    {
     "name": "stdout",
     "output_type": "stream",
     "text": [
      "Empty DataFrame\n",
      "Columns: [crash date, crash time, borough, latitude, longitude, on street name, cross street name, number of persons injured, number of persons killed, number of pedestrians injured, number of pedestrians killed, number of cyclist injured, number of cyclist killed, number of motorist injured, number of motorist killed, contributing factor vehicle 1, contributing factor vehicle 2, collision_id, vehicle type code 1, vehicle type code 2]\n",
      "Index: []\n"
     ]
    }
   ],
   "source": [
    "duplicates=df.duplicated(subset=['collision_id'],keep=False)\n",
    "print(df[duplicates])"
   ]
  },
  {
   "cell_type": "code",
   "execution_count": 29,
   "metadata": {},
   "outputs": [
    {
     "name": "stdout",
     "output_type": "stream",
     "text": [
      "<class 'pandas.core.frame.DataFrame'>\n",
      "Index: 891706 entries, 9 to 2076250\n",
      "Data columns (total 20 columns):\n",
      " #   Column                         Non-Null Count   Dtype         \n",
      "---  ------                         --------------   -----         \n",
      " 0   crash date                     891706 non-null  datetime64[ns]\n",
      " 1   crash time                     891706 non-null  datetime64[ns]\n",
      " 2   borough                        891706 non-null  object        \n",
      " 3   latitude                       891706 non-null  float64       \n",
      " 4   longitude                      891706 non-null  float64       \n",
      " 5   on street name                 891706 non-null  object        \n",
      " 6   cross street name              891706 non-null  object        \n",
      " 7   number of persons injured      891706 non-null  float64       \n",
      " 8   number of persons killed       891706 non-null  float64       \n",
      " 9   number of pedestrians injured  891706 non-null  int64         \n",
      " 10  number of pedestrians killed   891706 non-null  int64         \n",
      " 11  number of cyclist injured      891706 non-null  int64         \n",
      " 12  number of cyclist killed       891706 non-null  int64         \n",
      " 13  number of motorist injured     891706 non-null  int64         \n",
      " 14  number of motorist killed      891706 non-null  int64         \n",
      " 15  contributing factor vehicle 1  891706 non-null  object        \n",
      " 16  contributing factor vehicle 2  891706 non-null  object        \n",
      " 17  collision_id                   891706 non-null  int64         \n",
      " 18  vehicle type code 1            891706 non-null  object        \n",
      " 19  vehicle type code 2            891706 non-null  object        \n",
      "dtypes: datetime64[ns](2), float64(4), int64(7), object(7)\n",
      "memory usage: 142.9+ MB\n"
     ]
    }
   ],
   "source": [
    "df.info()"
   ]
  },
  {
   "cell_type": "code",
   "execution_count": 30,
   "metadata": {},
   "outputs": [],
   "source": [
    "df['number of persons injured'] = df['number of persons injured'].astype(int)\n",
    "df['number of persons killed'] = df['number of persons killed'].astype(int)"
   ]
  },
  {
   "cell_type": "code",
   "execution_count": 31,
   "metadata": {},
   "outputs": [
    {
     "name": "stdout",
     "output_type": "stream",
     "text": [
      "<class 'pandas.core.frame.DataFrame'>\n",
      "Index: 891706 entries, 9 to 2076250\n",
      "Data columns (total 20 columns):\n",
      " #   Column                         Non-Null Count   Dtype         \n",
      "---  ------                         --------------   -----         \n",
      " 0   crash date                     891706 non-null  datetime64[ns]\n",
      " 1   crash time                     891706 non-null  datetime64[ns]\n",
      " 2   borough                        891706 non-null  object        \n",
      " 3   latitude                       891706 non-null  float64       \n",
      " 4   longitude                      891706 non-null  float64       \n",
      " 5   on street name                 891706 non-null  object        \n",
      " 6   cross street name              891706 non-null  object        \n",
      " 7   number of persons injured      891706 non-null  int64         \n",
      " 8   number of persons killed       891706 non-null  int64         \n",
      " 9   number of pedestrians injured  891706 non-null  int64         \n",
      " 10  number of pedestrians killed   891706 non-null  int64         \n",
      " 11  number of cyclist injured      891706 non-null  int64         \n",
      " 12  number of cyclist killed       891706 non-null  int64         \n",
      " 13  number of motorist injured     891706 non-null  int64         \n",
      " 14  number of motorist killed      891706 non-null  int64         \n",
      " 15  contributing factor vehicle 1  891706 non-null  object        \n",
      " 16  contributing factor vehicle 2  891706 non-null  object        \n",
      " 17  collision_id                   891706 non-null  int64         \n",
      " 18  vehicle type code 1            891706 non-null  object        \n",
      " 19  vehicle type code 2            891706 non-null  object        \n",
      "dtypes: datetime64[ns](2), float64(2), int64(9), object(7)\n",
      "memory usage: 142.9+ MB\n"
     ]
    }
   ],
   "source": [
    "df.info()"
   ]
  },
  {
   "cell_type": "code",
   "execution_count": 32,
   "metadata": {},
   "outputs": [
    {
     "data": {
      "text/plain": [
       "array(['MANHATTAN', 'QUEENS', 'BRONX', 'STATEN ISLAND', 'BROOKLYN'],\n",
       "      dtype=object)"
      ]
     },
     "execution_count": 32,
     "metadata": {},
     "output_type": "execute_result"
    }
   ],
   "source": [
    "df['borough'].unique()"
   ]
  },
  {
   "cell_type": "code",
   "execution_count": 33,
   "metadata": {},
   "outputs": [
    {
     "data": {
      "text/plain": [
       "array(['Manhattan', 'Queens', 'Bronx', 'Staten island', 'Brooklyn'],\n",
       "      dtype=object)"
      ]
     },
     "execution_count": 33,
     "metadata": {},
     "output_type": "execute_result"
    }
   ],
   "source": [
    "df['borough'] = df['borough'].apply(lambda x: x.lower().capitalize())\n",
    "df['borough'].unique()"
   ]
  },
  {
   "cell_type": "code",
   "execution_count": 34,
   "metadata": {},
   "outputs": [],
   "source": [
    "w=5\n",
    "df[\"Severity_score\"] = df[\"number of persons injured\"] + w * df[\"number of persons killed\"]"
   ]
  },
  {
   "cell_type": "code",
   "execution_count": 35,
   "metadata": {},
   "outputs": [
    {
     "data": {
      "text/html": [
       "<div>\n",
       "<style scoped>\n",
       "    .dataframe tbody tr th:only-of-type {\n",
       "        vertical-align: middle;\n",
       "    }\n",
       "\n",
       "    .dataframe tbody tr th {\n",
       "        vertical-align: top;\n",
       "    }\n",
       "\n",
       "    .dataframe thead th {\n",
       "        text-align: right;\n",
       "    }\n",
       "</style>\n",
       "<table border=\"1\" class=\"dataframe\">\n",
       "  <thead>\n",
       "    <tr style=\"text-align: right;\">\n",
       "      <th></th>\n",
       "      <th>crash date</th>\n",
       "      <th>crash time</th>\n",
       "      <th>borough</th>\n",
       "      <th>latitude</th>\n",
       "      <th>longitude</th>\n",
       "      <th>on street name</th>\n",
       "      <th>cross street name</th>\n",
       "      <th>number of persons injured</th>\n",
       "      <th>number of persons killed</th>\n",
       "      <th>number of pedestrians injured</th>\n",
       "      <th>...</th>\n",
       "      <th>number of cyclist injured</th>\n",
       "      <th>number of cyclist killed</th>\n",
       "      <th>number of motorist injured</th>\n",
       "      <th>number of motorist killed</th>\n",
       "      <th>contributing factor vehicle 1</th>\n",
       "      <th>contributing factor vehicle 2</th>\n",
       "      <th>collision_id</th>\n",
       "      <th>vehicle type code 1</th>\n",
       "      <th>vehicle type code 2</th>\n",
       "      <th>Severity_score</th>\n",
       "    </tr>\n",
       "  </thead>\n",
       "  <tbody>\n",
       "    <tr>\n",
       "      <th>9</th>\n",
       "      <td>2021-12-14</td>\n",
       "      <td>1900-01-01 14:58:00</td>\n",
       "      <td>Manhattan</td>\n",
       "      <td>40.751440</td>\n",
       "      <td>-73.973970</td>\n",
       "      <td>3 AVENUE</td>\n",
       "      <td>EAST 43 STREET</td>\n",
       "      <td>0</td>\n",
       "      <td>0</td>\n",
       "      <td>0</td>\n",
       "      <td>...</td>\n",
       "      <td>0</td>\n",
       "      <td>0</td>\n",
       "      <td>0</td>\n",
       "      <td>0</td>\n",
       "      <td>Passing Too Closely</td>\n",
       "      <td>Unspecified</td>\n",
       "      <td>4486519</td>\n",
       "      <td>Sedan</td>\n",
       "      <td>Station Wagon/Sport Utility Vehicle</td>\n",
       "      <td>0</td>\n",
       "    </tr>\n",
       "    <tr>\n",
       "      <th>11</th>\n",
       "      <td>2021-12-14</td>\n",
       "      <td>1900-01-01 16:50:00</td>\n",
       "      <td>Queens</td>\n",
       "      <td>40.675884</td>\n",
       "      <td>-73.755770</td>\n",
       "      <td>SPRINGFIELD BOULEVARD</td>\n",
       "      <td>EAST GATE PLAZA</td>\n",
       "      <td>0</td>\n",
       "      <td>0</td>\n",
       "      <td>0</td>\n",
       "      <td>...</td>\n",
       "      <td>0</td>\n",
       "      <td>0</td>\n",
       "      <td>0</td>\n",
       "      <td>0</td>\n",
       "      <td>Turning Improperly</td>\n",
       "      <td>Unspecified</td>\n",
       "      <td>4487127</td>\n",
       "      <td>Sedan</td>\n",
       "      <td>Station Wagon/Sport Utility Vehicle</td>\n",
       "      <td>0</td>\n",
       "    </tr>\n",
       "    <tr>\n",
       "      <th>14</th>\n",
       "      <td>2021-12-14</td>\n",
       "      <td>1900-01-01 23:10:00</td>\n",
       "      <td>Queens</td>\n",
       "      <td>40.666840</td>\n",
       "      <td>-73.789410</td>\n",
       "      <td>NORTH CONDUIT AVENUE</td>\n",
       "      <td>150 STREET</td>\n",
       "      <td>2</td>\n",
       "      <td>0</td>\n",
       "      <td>0</td>\n",
       "      <td>...</td>\n",
       "      <td>0</td>\n",
       "      <td>0</td>\n",
       "      <td>2</td>\n",
       "      <td>0</td>\n",
       "      <td>Reaction to Uninvolved Vehicle</td>\n",
       "      <td>Unspecified</td>\n",
       "      <td>4486635</td>\n",
       "      <td>Sedan</td>\n",
       "      <td>Sedan</td>\n",
       "      <td>2</td>\n",
       "    </tr>\n",
       "    <tr>\n",
       "      <th>18</th>\n",
       "      <td>2021-12-11</td>\n",
       "      <td>1900-01-01 19:43:00</td>\n",
       "      <td>Bronx</td>\n",
       "      <td>40.872620</td>\n",
       "      <td>-73.904686</td>\n",
       "      <td>WEST KINGSBRIDGE ROAD</td>\n",
       "      <td>HEATH AVENUE</td>\n",
       "      <td>1</td>\n",
       "      <td>0</td>\n",
       "      <td>0</td>\n",
       "      <td>...</td>\n",
       "      <td>0</td>\n",
       "      <td>0</td>\n",
       "      <td>1</td>\n",
       "      <td>0</td>\n",
       "      <td>Unspecified</td>\n",
       "      <td>Unspecified</td>\n",
       "      <td>4487040</td>\n",
       "      <td>Station Wagon/Sport Utility Vehicle</td>\n",
       "      <td>Sedan</td>\n",
       "      <td>1</td>\n",
       "    </tr>\n",
       "    <tr>\n",
       "      <th>24</th>\n",
       "      <td>2021-12-13</td>\n",
       "      <td>1900-01-01 17:40:00</td>\n",
       "      <td>Staten island</td>\n",
       "      <td>40.631650</td>\n",
       "      <td>-74.087620</td>\n",
       "      <td>VICTORY BOULEVARD</td>\n",
       "      <td>WOODSTOCK AVENUE</td>\n",
       "      <td>1</td>\n",
       "      <td>0</td>\n",
       "      <td>0</td>\n",
       "      <td>...</td>\n",
       "      <td>0</td>\n",
       "      <td>0</td>\n",
       "      <td>1</td>\n",
       "      <td>0</td>\n",
       "      <td>Unspecified</td>\n",
       "      <td>Unspecified</td>\n",
       "      <td>4487001</td>\n",
       "      <td>Sedan</td>\n",
       "      <td>Sedan</td>\n",
       "      <td>1</td>\n",
       "    </tr>\n",
       "  </tbody>\n",
       "</table>\n",
       "<p>5 rows × 21 columns</p>\n",
       "</div>"
      ],
      "text/plain": [
       "   crash date          crash time        borough   latitude  longitude  \\\n",
       "9  2021-12-14 1900-01-01 14:58:00      Manhattan  40.751440 -73.973970   \n",
       "11 2021-12-14 1900-01-01 16:50:00         Queens  40.675884 -73.755770   \n",
       "14 2021-12-14 1900-01-01 23:10:00         Queens  40.666840 -73.789410   \n",
       "18 2021-12-11 1900-01-01 19:43:00          Bronx  40.872620 -73.904686   \n",
       "24 2021-12-13 1900-01-01 17:40:00  Staten island  40.631650 -74.087620   \n",
       "\n",
       "           on street name cross street name  number of persons injured  \\\n",
       "9                3 AVENUE    EAST 43 STREET                          0   \n",
       "11  SPRINGFIELD BOULEVARD   EAST GATE PLAZA                          0   \n",
       "14   NORTH CONDUIT AVENUE        150 STREET                          2   \n",
       "18  WEST KINGSBRIDGE ROAD      HEATH AVENUE                          1   \n",
       "24      VICTORY BOULEVARD  WOODSTOCK AVENUE                          1   \n",
       "\n",
       "    number of persons killed  number of pedestrians injured  ...  \\\n",
       "9                          0                              0  ...   \n",
       "11                         0                              0  ...   \n",
       "14                         0                              0  ...   \n",
       "18                         0                              0  ...   \n",
       "24                         0                              0  ...   \n",
       "\n",
       "    number of cyclist injured  number of cyclist killed  \\\n",
       "9                           0                         0   \n",
       "11                          0                         0   \n",
       "14                          0                         0   \n",
       "18                          0                         0   \n",
       "24                          0                         0   \n",
       "\n",
       "    number of motorist injured  number of motorist killed  \\\n",
       "9                            0                          0   \n",
       "11                           0                          0   \n",
       "14                           2                          0   \n",
       "18                           1                          0   \n",
       "24                           1                          0   \n",
       "\n",
       "     contributing factor vehicle 1 contributing factor vehicle 2 collision_id  \\\n",
       "9              Passing Too Closely                   Unspecified      4486519   \n",
       "11              Turning Improperly                   Unspecified      4487127   \n",
       "14  Reaction to Uninvolved Vehicle                   Unspecified      4486635   \n",
       "18                     Unspecified                   Unspecified      4487040   \n",
       "24                     Unspecified                   Unspecified      4487001   \n",
       "\n",
       "                    vehicle type code 1                  vehicle type code 2  \\\n",
       "9                                 Sedan  Station Wagon/Sport Utility Vehicle   \n",
       "11                                Sedan  Station Wagon/Sport Utility Vehicle   \n",
       "14                                Sedan                                Sedan   \n",
       "18  Station Wagon/Sport Utility Vehicle                                Sedan   \n",
       "24                                Sedan                                Sedan   \n",
       "\n",
       "   Severity_score  \n",
       "9               0  \n",
       "11              0  \n",
       "14              2  \n",
       "18              1  \n",
       "24              1  \n",
       "\n",
       "[5 rows x 21 columns]"
      ]
     },
     "execution_count": 35,
     "metadata": {},
     "output_type": "execute_result"
    }
   ],
   "source": [
    "df.head()"
   ]
  },
  {
   "cell_type": "code",
   "execution_count": 36,
   "metadata": {},
   "outputs": [
    {
     "data": {
      "text/plain": [
       "crash date                       0\n",
       "crash time                       0\n",
       "borough                          0\n",
       "latitude                         0\n",
       "longitude                        0\n",
       "on street name                   0\n",
       "cross street name                0\n",
       "number of persons injured        0\n",
       "number of persons killed         0\n",
       "number of pedestrians injured    0\n",
       "number of pedestrians killed     0\n",
       "number of cyclist injured        0\n",
       "number of cyclist killed         0\n",
       "number of motorist injured       0\n",
       "number of motorist killed        0\n",
       "contributing factor vehicle 1    0\n",
       "contributing factor vehicle 2    0\n",
       "collision_id                     0\n",
       "vehicle type code 1              0\n",
       "vehicle type code 2              0\n",
       "Severity_score                   0\n",
       "dtype: int64"
      ]
     },
     "execution_count": 36,
     "metadata": {},
     "output_type": "execute_result"
    }
   ],
   "source": [
    "df.isnull().sum()"
   ]
  },
  {
   "cell_type": "code",
   "execution_count": 39,
   "metadata": {},
   "outputs": [
    {
     "name": "stdout",
     "output_type": "stream",
     "text": [
      "Index(['BROADWAY                        ', 'ATLANTIC AVENUE                 ',\n",
      "       '3 AVENUE                        ', 'NORTHERN BOULEVARD              ',\n",
      "       '2 AVENUE                        ', 'LINDEN BOULEVARD                ',\n",
      "       'QUEENS BOULEVARD                ', 'FLATBUSH AVENUE                 ',\n",
      "       '5 AVENUE                        ', '10 AVENUE                       '],\n",
      "      dtype='object', name='on street name')\n"
     ]
    }
   ],
   "source": [
    "unique_on_streets = df['on street name'].value_counts().iloc[:10].index\n",
    "print(unique_on_streets)"
   ]
  },
  {
   "cell_type": "code",
   "execution_count": 40,
   "metadata": {},
   "outputs": [
    {
     "name": "stdout",
     "output_type": "stream",
     "text": [
      "Index(['3 AVENUE                        ', 'BROADWAY                        ',\n",
      "       '2 AVENUE                        ', '5 AVENUE                        ',\n",
      "       '8 AVENUE                        ', '7 AVENUE                        ',\n",
      "       '3 AVENUE', '1 AVENUE                        ', 'BROADWAY',\n",
      "       'PARK AVENUE                     '],\n",
      "      dtype='object', name='cross street name')\n"
     ]
    }
   ],
   "source": [
    "unique_cross_streetss = df['cross street name'].value_counts().iloc[:10].index\n",
    "print(unique_cross_streetss)"
   ]
  },
  {
   "cell_type": "code",
   "execution_count": 41,
   "metadata": {},
   "outputs": [],
   "source": [
    "import re"
   ]
  },
  {
   "cell_type": "code",
   "execution_count": 42,
   "metadata": {},
   "outputs": [
    {
     "name": "stdout",
     "output_type": "stream",
     "text": [
      "Cleaned cross street names:\n",
      "['BROADWAY', 'ATLANTIC AVENUE', '3 AVENUE', 'NORTHERN BOULEVARD', '2 AVENUE', 'LINDEN BOULEVARD', 'QUEENS BOULEVARD', 'FLATBUSH AVENUE', '5 AVENUE', '10 AVENUE']\n"
     ]
    }
   ],
   "source": [
    "unique_on_streets = df['on street name'].value_counts().iloc[:10].index\n",
    "\n",
    "cleaned_on_streets = [re.sub(r'\\s{2,}', ' ', street).strip() for street in unique_on_streets if isinstance(street, str)]\n",
    "\n",
    "print(\"Cleaned cross street names:\")\n",
    "print(cleaned_on_streets)"
   ]
  },
  {
   "cell_type": "code",
   "execution_count": 43,
   "metadata": {},
   "outputs": [
    {
     "name": "stdout",
     "output_type": "stream",
     "text": [
      "Cleaned cross street names:\n",
      "['3 AVENUE', 'BROADWAY', '2 AVENUE', '5 AVENUE', '8 AVENUE', '7 AVENUE', '3 AVENUE', '1 AVENUE', 'BROADWAY', 'PARK AVENUE']\n"
     ]
    }
   ],
   "source": [
    "unique_cross_streets = df['cross street name'].value_counts().iloc[:10].index\n",
    "\n",
    "cleaned_cross_streets = [re.sub(r'\\s{2,}', ' ', street).strip() for street in unique_cross_streets if isinstance(street, str)]\n",
    "\n",
    "print(\"Cleaned cross street names:\")\n",
    "print(cleaned_cross_streets)"
   ]
  },
  {
   "cell_type": "code",
   "execution_count": null,
   "metadata": {},
   "outputs": [],
   "source": [
    "df['contributing factor vehicle 1'].replace('Unspecified', np.nan, inplace=True)\n",
    "df = df.dropna(subset=['contributing factor vehicle 1'])"
   ]
  },
  {
   "cell_type": "code",
   "execution_count": 49,
   "metadata": {},
   "outputs": [
    {
     "name": "stderr",
     "output_type": "stream",
     "text": [
      "C:\\Users\\Amer\\AppData\\Local\\Temp\\ipykernel_13020\\1298161836.py:1: FutureWarning: A value is trying to be set on a copy of a DataFrame or Series through chained assignment using an inplace method.\n",
      "The behavior will change in pandas 3.0. This inplace method will never work because the intermediate object on which we are setting values always behaves as a copy.\n",
      "\n",
      "For example, when doing 'df[col].method(value, inplace=True)', try using 'df.method({col: value}, inplace=True)' or df[col] = df[col].method(value) instead, to perform the operation inplace on the original object.\n",
      "\n",
      "\n",
      "  df['contributing factor vehicle 2'].replace('Unspecified', np.nan, inplace=True)\n"
     ]
    }
   ],
   "source": [
    "df['contributing factor vehicle 2'].replace('Unspecified', np.nan, inplace=True)\n",
    "df = df.dropna(subset=['contributing factor vehicle 2'])"
   ]
  },
  {
   "cell_type": "code",
   "execution_count": 52,
   "metadata": {},
   "outputs": [
    {
     "name": "stdout",
     "output_type": "stream",
     "text": [
      "<class 'pandas.core.frame.DataFrame'>\n",
      "Index: 142276 entries, 60 to 2076250\n",
      "Data columns (total 21 columns):\n",
      " #   Column                         Non-Null Count   Dtype         \n",
      "---  ------                         --------------   -----         \n",
      " 0   crash date                     142276 non-null  datetime64[ns]\n",
      " 1   crash time                     142276 non-null  datetime64[ns]\n",
      " 2   borough                        142276 non-null  object        \n",
      " 3   latitude                       142276 non-null  float64       \n",
      " 4   longitude                      142276 non-null  float64       \n",
      " 5   on street name                 142276 non-null  object        \n",
      " 6   cross street name              142276 non-null  object        \n",
      " 7   number of persons injured      142276 non-null  int64         \n",
      " 8   number of persons killed       142276 non-null  int64         \n",
      " 9   number of pedestrians injured  142276 non-null  int64         \n",
      " 10  number of pedestrians killed   142276 non-null  int64         \n",
      " 11  number of cyclist injured      142276 non-null  int64         \n",
      " 12  number of cyclist killed       142276 non-null  int64         \n",
      " 13  number of motorist injured     142276 non-null  int64         \n",
      " 14  number of motorist killed      142276 non-null  int64         \n",
      " 15  contributing factor vehicle 1  142276 non-null  object        \n",
      " 16  contributing factor vehicle 2  142276 non-null  object        \n",
      " 17  collision_id                   142276 non-null  int64         \n",
      " 18  vehicle type code 1            142276 non-null  object        \n",
      " 19  vehicle type code 2            142276 non-null  object        \n",
      " 20  Severity_score                 142276 non-null  int64         \n",
      "dtypes: datetime64[ns](2), float64(2), int64(10), object(7)\n",
      "memory usage: 23.9+ MB\n"
     ]
    }
   ],
   "source": [
    "df.info()"
   ]
  },
  {
   "cell_type": "code",
   "execution_count": 53,
   "metadata": {},
   "outputs": [],
   "source": [
    "df.to_csv('Cleaning_Crashes_Data.csv')"
   ]
  }
 ],
 "metadata": {
  "kernelspec": {
   "display_name": "Python 3",
   "language": "python",
   "name": "python3"
  },
  "language_info": {
   "codemirror_mode": {
    "name": "ipython",
    "version": 3
   },
   "file_extension": ".py",
   "mimetype": "text/x-python",
   "name": "python",
   "nbconvert_exporter": "python",
   "pygments_lexer": "ipython3",
   "version": "3.11.3"
  }
 },
 "nbformat": 4,
 "nbformat_minor": 2
}
